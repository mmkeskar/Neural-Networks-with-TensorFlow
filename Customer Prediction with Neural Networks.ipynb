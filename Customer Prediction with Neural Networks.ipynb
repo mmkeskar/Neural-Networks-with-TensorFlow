{
 "cells": [
  {
   "cell_type": "markdown",
   "metadata": {},
   "source": [
    "# Neural Networks with Tensorflow Basic Exercise"
   ]
  },
  {
   "cell_type": "markdown",
   "metadata": {},
   "source": [
    "## Import Relevant Libraries"
   ]
  },
  {
   "cell_type": "code",
   "execution_count": 1,
   "metadata": {},
   "outputs": [],
   "source": [
    "import numpy as np\n",
    "import matplotlib.pyplot as plt\n",
    "import tensorflow as tf"
   ]
  },
  {
   "cell_type": "markdown",
   "metadata": {},
   "source": [
    "## Load the data"
   ]
  },
  {
   "cell_type": "code",
   "execution_count": 2,
   "metadata": {},
   "outputs": [],
   "source": [
    "full_data = np.loadtxt(\"Audiobooks_data.csv\", delimiter=',')"
   ]
  },
  {
   "cell_type": "code",
   "execution_count": 3,
   "metadata": {},
   "outputs": [
    {
     "data": {
      "text/plain": [
       "array([[9.9400e+02, 1.6200e+03, 1.6200e+03, ..., 5.0000e+00, 9.2000e+01,\n",
       "        0.0000e+00],\n",
       "       [1.1430e+03, 2.1600e+03, 2.1600e+03, ..., 0.0000e+00, 0.0000e+00,\n",
       "        0.0000e+00],\n",
       "       [2.0590e+03, 2.1600e+03, 2.1600e+03, ..., 0.0000e+00, 3.8800e+02,\n",
       "        0.0000e+00],\n",
       "       ...,\n",
       "       [3.1134e+04, 2.1600e+03, 2.1600e+03, ..., 0.0000e+00, 0.0000e+00,\n",
       "        0.0000e+00],\n",
       "       [3.2832e+04, 1.6200e+03, 1.6200e+03, ..., 0.0000e+00, 9.0000e+01,\n",
       "        0.0000e+00],\n",
       "       [2.5100e+02, 1.6740e+03, 3.3480e+03, ..., 0.0000e+00, 0.0000e+00,\n",
       "        1.0000e+00]])"
      ]
     },
     "execution_count": 3,
     "metadata": {},
     "output_type": "execute_result"
    }
   ],
   "source": [
    "full_data"
   ]
  },
  {
   "cell_type": "markdown",
   "metadata": {},
   "source": [
    "This data is in the form of a matrix. The columns are as below \n",
    "1. Id\n",
    "2. overall book length in minutes\n",
    "3. average book length in minutes\n",
    "4. Price\n",
    "5. Average price\n",
    "6. whether or not a review was given (1:yes, 0:no)\n",
    "7. what was the review on a scale of 10\n",
    "8. minutes listened\n",
    "9. percent completed\n",
    "10. support requests\n",
    "11. last visited minus purchase date\n",
    "12. targets"
   ]
  },
  {
   "cell_type": "markdown",
   "metadata": {},
   "source": [
    "## Feature Selection"
   ]
  },
  {
   "cell_type": "markdown",
   "metadata": {},
   "source": [
    "We will create a new column that records the number of books purchased using the second and the third column."
   ]
  },
  {
   "cell_type": "code",
   "execution_count": 4,
   "metadata": {},
   "outputs": [
    {
     "data": {
      "text/plain": [
       "array([1. , 1. , 1. , ..., 1. , 1. , 0.5])"
      ]
     },
     "execution_count": 4,
     "metadata": {},
     "output_type": "execute_result"
    }
   ],
   "source": [
    "# create an empty array to store the number of books for each id\n",
    "num_books_column = []\n",
    "\n",
    "# take the total reading and the average and divide to get number of books\n",
    "for total, avg in zip(full_data[:, 1], full_data[:, 2]):\n",
    "    num_books = total/avg\n",
    "    num_books_column = np.append(num_books_column, num_books)\n",
    "\n",
    "# insert this as a column\n",
    "inputs = np.insert(full_data, 3, num_books_column, axis=1)\n",
    "inputs[:, 3]"
   ]
  },
  {
   "cell_type": "markdown",
   "metadata": {},
   "source": [
    "Now, looking at the columns, I will use the newly created column, the price column, review column, percent completed, and the last visited minus the date of purchase since these columns seem logically most relevant towards predicting a customer's loyalty and interest."
   ]
  },
  {
   "cell_type": "code",
   "execution_count": 5,
   "metadata": {},
   "outputs": [
    {
     "data": {
      "text/plain": [
       "array([[19.73, 19.73, 10.  ,  5.  ,  0.  ,  0.  ],\n",
       "       [ 5.33,  5.33,  8.91,  0.  ,  0.  ,  0.  ],\n",
       "       [ 5.33,  5.33,  8.91,  0.  ,  0.  ,  0.  ],\n",
       "       ...,\n",
       "       [ 6.14,  6.14,  8.91,  0.  ,  0.  ,  0.  ],\n",
       "       [ 5.33,  5.33,  8.  ,  0.  ,  0.  ,  0.  ],\n",
       "       [ 5.33, 10.67,  8.91,  0.  ,  1.  ,  1.  ]])"
      ]
     },
     "execution_count": 5,
     "metadata": {},
     "output_type": "execute_result"
    }
   ],
   "source": [
    "inputs = full_data\n",
    "inputs1 = inputs[:, 3]\n",
    "inputs2 = inputs[:, 4]\n",
    "inputs3 = inputs[:, 6]\n",
    "inputs4 = inputs[:, 9]\n",
    "inputs5 = inputs[:, 11]\n",
    "output = inputs[:, -1]\n",
    "columns_to_include = np.stack((inputs1, inputs2, inputs3, inputs4, inputs5, output), axis=1)\n",
    "columns_to_include"
   ]
  },
  {
   "cell_type": "markdown",
   "metadata": {},
   "source": [
    "## Split the data into training and testing data"
   ]
  },
  {
   "cell_type": "code",
   "execution_count": 6,
   "metadata": {},
   "outputs": [],
   "source": [
    "# shuffle the columns to make them randomized\n",
    "np.random.shuffle(columns_to_include)\n",
    "\n",
    "# keep the last 2000 samples for testing purpose\n",
    "training_inputs_to_include = columns_to_include[:-2000, :-1]\n",
    "testing_inputs_to_include = columns_to_include[-2000:, :-1]\n",
    "training_targets = (columns_to_include[:-2000, -1]).astype(int)\n",
    "testing_targets = (columns_to_include[-2000:, -1]).astype(int)"
   ]
  },
  {
   "cell_type": "markdown",
   "metadata": {},
   "source": [
    "## Save the data as an .npz file (tensorflow friendly)"
   ]
  },
  {
   "cell_type": "code",
   "execution_count": 7,
   "metadata": {},
   "outputs": [],
   "source": [
    "np.savez(\"Audiobooks_training\", inputs=training_inputs_to_include, targets=training_targets)\n",
    "np.savez(\"Audiobooks_testing\", inputs=testing_inputs_to_include, targets=testing_targets)"
   ]
  },
  {
   "cell_type": "markdown",
   "metadata": {},
   "source": [
    "## Load the data from this saved file"
   ]
  },
  {
   "cell_type": "code",
   "execution_count": 8,
   "metadata": {},
   "outputs": [],
   "source": [
    "training_data = np.load(\"Audiobooks_training.npz\")"
   ]
  },
  {
   "cell_type": "markdown",
   "metadata": {},
   "source": [
    "## Create the Model"
   ]
  },
  {
   "cell_type": "code",
   "execution_count": 9,
   "metadata": {},
   "outputs": [],
   "source": [
    "# number of inputs\n",
    "input_size = 5\n",
    "# number of outputs\n",
    "output_size = 2\n",
    "# hidden layer size \n",
    "hidden_layer_size = 150\n",
    "\n",
    "# create the model\n",
    "model = tf.keras.Sequential([\n",
    "    tf.keras.layers.Dense(hidden_layer_size, activation='sigmoid'), # first hidden layer\n",
    "    tf.keras.layers.Dense(hidden_layer_size, activation='sigmoid'), # second hidden layer\n",
    "    tf.keras.layers.Dense(hidden_layer_size, activation='sigmoid'), # thord hidden layer\n",
    "    tf.keras.layers.Dense(hidden_layer_size, activation='sigmoid'), # fourth hidden layer\n",
    "    tf.keras.layers.Dense(hidden_layer_size, activation='sigmoid'), # fifth hidden layer\n",
    "    \n",
    "    tf.keras.layers.Dense(output_size, activation='softmax') # \n",
    "])"
   ]
  },
  {
   "cell_type": "markdown",
   "metadata": {},
   "source": [
    "## Decide the loss function, the optimizer, and train the data"
   ]
  },
  {
   "cell_type": "code",
   "execution_count": 10,
   "metadata": {},
   "outputs": [
    {
     "name": "stdout",
     "output_type": "stream",
     "text": [
      "Epoch 1/100\n",
      "378/378 - 1s - loss: 0.2334 - accuracy: 0.9127\n",
      "Epoch 2/100\n",
      "378/378 - 1s - loss: 0.0048 - accuracy: 0.9991\n",
      "Epoch 3/100\n",
      "378/378 - 1s - loss: 0.0054 - accuracy: 0.9989\n",
      "Epoch 4/100\n",
      "378/378 - 0s - loss: 0.0063 - accuracy: 0.9988\n",
      "Epoch 5/100\n",
      "378/378 - 0s - loss: 0.0016 - accuracy: 0.9997\n",
      "Epoch 6/100\n",
      "378/378 - 1s - loss: 7.8850e-04 - accuracy: 0.9998\n",
      "Epoch 7/100\n",
      "378/378 - 1s - loss: 0.0017 - accuracy: 0.9997\n",
      "Epoch 8/100\n",
      "378/378 - 0s - loss: 9.0888e-04 - accuracy: 0.9999\n",
      "Epoch 9/100\n",
      "378/378 - 1s - loss: 0.0066 - accuracy: 0.9988\n",
      "Epoch 10/100\n",
      "378/378 - 0s - loss: 0.0067 - accuracy: 0.9992\n",
      "Epoch 11/100\n",
      "378/378 - 1s - loss: 0.0019 - accuracy: 0.9998\n",
      "Epoch 12/100\n",
      "378/378 - 1s - loss: 8.7302e-05 - accuracy: 1.0000\n",
      "Epoch 13/100\n",
      "378/378 - 0s - loss: 4.4328e-05 - accuracy: 1.0000\n",
      "Epoch 14/100\n",
      "378/378 - 1s - loss: 2.8228e-05 - accuracy: 1.0000\n",
      "Epoch 15/100\n",
      "378/378 - 0s - loss: 1.9634e-05 - accuracy: 1.0000\n",
      "Epoch 16/100\n",
      "378/378 - 0s - loss: 1.4349e-05 - accuracy: 1.0000\n",
      "Epoch 17/100\n",
      "378/378 - 0s - loss: 1.0822e-05 - accuracy: 1.0000\n",
      "Epoch 18/100\n",
      "378/378 - 0s - loss: 8.3385e-06 - accuracy: 1.0000\n",
      "Epoch 19/100\n",
      "378/378 - 0s - loss: 6.5278e-06 - accuracy: 1.0000\n",
      "Epoch 20/100\n",
      "378/378 - 0s - loss: 5.1683e-06 - accuracy: 1.0000\n",
      "Epoch 21/100\n",
      "378/378 - 0s - loss: 4.1299e-06 - accuracy: 1.0000\n",
      "Epoch 22/100\n",
      "378/378 - 0s - loss: 3.3219e-06 - accuracy: 1.0000\n",
      "Epoch 23/100\n",
      "378/378 - 0s - loss: 2.6882e-06 - accuracy: 1.0000\n",
      "Epoch 24/100\n",
      "378/378 - 0s - loss: 2.1811e-06 - accuracy: 1.0000\n",
      "Epoch 25/100\n",
      "378/378 - 0s - loss: 1.7806e-06 - accuracy: 1.0000\n",
      "Epoch 26/100\n",
      "378/378 - 1s - loss: 1.4502e-06 - accuracy: 1.0000\n",
      "Epoch 27/100\n",
      "378/378 - 0s - loss: 1.1968e-06 - accuracy: 1.0000\n",
      "Epoch 28/100\n",
      "378/378 - 0s - loss: 9.7319e-07 - accuracy: 1.0000\n",
      "Epoch 29/100\n",
      "378/378 - 0s - loss: 8.0432e-07 - accuracy: 1.0000\n",
      "Epoch 30/100\n",
      "378/378 - 0s - loss: 6.6427e-07 - accuracy: 1.0000\n",
      "Epoch 31/100\n",
      "378/378 - 0s - loss: 5.2979e-07 - accuracy: 1.0000\n",
      "Epoch 32/100\n",
      "378/378 - 0s - loss: 4.6468e-07 - accuracy: 1.0000\n",
      "Epoch 33/100\n",
      "378/378 - 0s - loss: 3.4824e-07 - accuracy: 1.0000\n",
      "Epoch 34/100\n",
      "378/378 - 0s - loss: 3.2302e-07 - accuracy: 1.0000\n",
      "Epoch 35/100\n",
      "378/378 - 1s - loss: 2.4694e-07 - accuracy: 1.0000\n",
      "Epoch 36/100\n",
      "378/378 - 1s - loss: 1.8337e-07 - accuracy: 1.0000\n",
      "Epoch 37/100\n",
      "378/378 - 1s - loss: 1.6982e-07 - accuracy: 1.0000\n",
      "Epoch 38/100\n",
      "378/378 - 0s - loss: 1.5874e-07 - accuracy: 1.0000\n",
      "Epoch 39/100\n",
      "378/378 - 0s - loss: 1.4749e-07 - accuracy: 1.0000\n",
      "Epoch 40/100\n",
      "378/378 - 0s - loss: 1.1954e-07 - accuracy: 1.0000\n",
      "Epoch 41/100\n",
      "378/378 - 0s - loss: 3.8562e-08 - accuracy: 1.0000\n",
      "Epoch 42/100\n",
      "378/378 - 0s - loss: 2.3074e-08 - accuracy: 1.0000\n",
      "Epoch 43/100\n",
      "378/378 - 0s - loss: 1.9671e-08 - accuracy: 1.0000\n",
      "Epoch 44/100\n",
      "378/378 - 0s - loss: 1.9602e-08 - accuracy: 1.0000\n",
      "Epoch 45/100\n",
      "378/378 - 0s - loss: 1.9523e-08 - accuracy: 1.0000\n",
      "Epoch 46/100\n",
      "378/378 - 1s - loss: 1.9405e-08 - accuracy: 1.0000\n",
      "Epoch 47/100\n",
      "378/378 - 0s - loss: 1.5113e-08 - accuracy: 1.0000\n",
      "Epoch 48/100\n",
      "378/378 - 0s - loss: 4.6366e-10 - accuracy: 1.0000\n",
      "Epoch 49/100\n",
      "378/378 - 0s - loss: 2.3676e-10 - accuracy: 1.0000\n",
      "Epoch 50/100\n",
      "378/378 - 0s - loss: 1.8744e-10 - accuracy: 1.0000\n",
      "Epoch 51/100\n",
      "378/378 - 0s - loss: 1.7757e-10 - accuracy: 1.0000\n",
      "Epoch 52/100\n",
      "378/378 - 0s - loss: 1.5784e-10 - accuracy: 1.0000\n",
      "Epoch 53/100\n",
      "378/378 - 0s - loss: 1.5784e-10 - accuracy: 1.0000\n",
      "Epoch 54/100\n",
      "378/378 - 1s - loss: 1.0852e-10 - accuracy: 1.0000\n",
      "Epoch 55/100\n",
      "378/378 - 0s - loss: 9.8651e-11 - accuracy: 1.0000\n",
      "Epoch 56/100\n",
      "378/378 - 0s - loss: 5.9190e-11 - accuracy: 1.0000\n",
      "Epoch 57/100\n",
      "378/378 - 1s - loss: 5.9190e-11 - accuracy: 1.0000\n",
      "Epoch 58/100\n",
      "378/378 - 0s - loss: 5.9190e-11 - accuracy: 1.0000\n",
      "Epoch 59/100\n",
      "378/378 - 1s - loss: 5.9190e-11 - accuracy: 1.0000\n",
      "Epoch 60/100\n",
      "378/378 - 0s - loss: 5.9190e-11 - accuracy: 1.0000\n",
      "Epoch 61/100\n",
      "378/378 - 0s - loss: 5.9190e-11 - accuracy: 1.0000\n",
      "Epoch 62/100\n",
      "378/378 - 0s - loss: 3.9460e-11 - accuracy: 1.0000\n",
      "Epoch 63/100\n",
      "378/378 - 0s - loss: 2.9595e-11 - accuracy: 1.0000\n",
      "Epoch 64/100\n",
      "378/378 - 0s - loss: 9.8651e-12 - accuracy: 1.0000\n",
      "Epoch 65/100\n",
      "378/378 - 0s - loss: 0.0000e+00 - accuracy: 1.0000\n",
      "Epoch 66/100\n",
      "378/378 - 0s - loss: 0.0000e+00 - accuracy: 1.0000\n",
      "Epoch 67/100\n",
      "378/378 - 0s - loss: 0.0000e+00 - accuracy: 1.0000\n",
      "Epoch 68/100\n",
      "378/378 - 0s - loss: 0.0000e+00 - accuracy: 1.0000\n",
      "Epoch 69/100\n",
      "378/378 - 0s - loss: 0.0000e+00 - accuracy: 1.0000\n",
      "Epoch 70/100\n",
      "378/378 - 0s - loss: 0.0000e+00 - accuracy: 1.0000\n",
      "Epoch 71/100\n",
      "378/378 - 0s - loss: 0.0000e+00 - accuracy: 1.0000\n",
      "Epoch 72/100\n",
      "378/378 - 0s - loss: 0.0000e+00 - accuracy: 1.0000\n",
      "Epoch 73/100\n",
      "378/378 - 0s - loss: 0.0000e+00 - accuracy: 1.0000\n",
      "Epoch 74/100\n",
      "378/378 - 0s - loss: 0.0000e+00 - accuracy: 1.0000\n",
      "Epoch 75/100\n",
      "378/378 - 0s - loss: 0.0000e+00 - accuracy: 1.0000\n",
      "Epoch 76/100\n",
      "378/378 - 0s - loss: 0.0000e+00 - accuracy: 1.0000\n",
      "Epoch 77/100\n",
      "378/378 - 0s - loss: 0.0000e+00 - accuracy: 1.0000\n",
      "Epoch 78/100\n",
      "378/378 - 0s - loss: 0.0000e+00 - accuracy: 1.0000\n",
      "Epoch 79/100\n",
      "378/378 - 1s - loss: 0.0000e+00 - accuracy: 1.0000\n",
      "Epoch 80/100\n",
      "378/378 - 0s - loss: 0.0000e+00 - accuracy: 1.0000\n",
      "Epoch 81/100\n",
      "378/378 - 0s - loss: 0.0000e+00 - accuracy: 1.0000\n",
      "Epoch 82/100\n",
      "378/378 - 0s - loss: 0.0000e+00 - accuracy: 1.0000\n",
      "Epoch 83/100\n",
      "378/378 - 0s - loss: 0.0000e+00 - accuracy: 1.0000\n",
      "Epoch 84/100\n",
      "378/378 - 0s - loss: 0.0000e+00 - accuracy: 1.0000\n",
      "Epoch 85/100\n",
      "378/378 - 0s - loss: 0.0000e+00 - accuracy: 1.0000\n",
      "Epoch 86/100\n",
      "378/378 - 0s - loss: 0.0000e+00 - accuracy: 1.0000\n",
      "Epoch 87/100\n",
      "378/378 - 0s - loss: 0.0000e+00 - accuracy: 1.0000\n",
      "Epoch 88/100\n",
      "378/378 - 0s - loss: 0.0000e+00 - accuracy: 1.0000\n",
      "Epoch 89/100\n",
      "378/378 - 0s - loss: 0.0000e+00 - accuracy: 1.0000\n",
      "Epoch 90/100\n",
      "378/378 - 0s - loss: 0.0000e+00 - accuracy: 1.0000\n",
      "Epoch 91/100\n",
      "378/378 - 0s - loss: 0.0000e+00 - accuracy: 1.0000\n",
      "Epoch 92/100\n",
      "378/378 - 0s - loss: 0.0000e+00 - accuracy: 1.0000\n",
      "Epoch 93/100\n",
      "378/378 - 0s - loss: 0.0000e+00 - accuracy: 1.0000\n",
      "Epoch 94/100\n",
      "378/378 - 0s - loss: 0.0000e+00 - accuracy: 1.0000\n",
      "Epoch 95/100\n",
      "378/378 - 0s - loss: 0.0000e+00 - accuracy: 1.0000\n",
      "Epoch 96/100\n",
      "378/378 - 0s - loss: 0.0000e+00 - accuracy: 1.0000\n",
      "Epoch 97/100\n",
      "378/378 - 0s - loss: 0.0000e+00 - accuracy: 1.0000\n",
      "Epoch 98/100\n",
      "378/378 - 0s - loss: 0.0000e+00 - accuracy: 1.0000\n",
      "Epoch 99/100\n",
      "378/378 - 0s - loss: 0.0000e+00 - accuracy: 1.0000\n",
      "Epoch 100/100\n",
      "378/378 - 0s - loss: 0.0000e+00 - accuracy: 1.0000\n"
     ]
    },
    {
     "data": {
      "text/plain": [
       "<tensorflow.python.keras.callbacks.History at 0x1dc9c584688>"
      ]
     },
     "execution_count": 10,
     "metadata": {},
     "output_type": "execute_result"
    }
   ],
   "source": [
    "model.compile(optimizer='adam', loss='sparse_categorical_crossentropy', metrics=['accuracy'])\n",
    "model.fit(training_data['inputs'], training_data['targets'], epochs=100, verbose=2)"
   ]
  },
  {
   "cell_type": "markdown",
   "metadata": {},
   "source": [
    "## Test the model and predict accuracy"
   ]
  },
  {
   "cell_type": "code",
   "execution_count": 11,
   "metadata": {},
   "outputs": [],
   "source": [
    "test_data = np.load(\"Audiobooks_testing.npz\")"
   ]
  },
  {
   "cell_type": "code",
   "execution_count": 12,
   "metadata": {},
   "outputs": [],
   "source": [
    "raw_outputs = model.predict_on_batch(test_data['inputs'])"
   ]
  },
  {
   "cell_type": "code",
   "execution_count": 13,
   "metadata": {},
   "outputs": [
    {
     "name": "stdout",
     "output_type": "stream",
     "text": [
      "Accuracy: 100.0%\n"
     ]
    }
   ],
   "source": [
    "outputs = []\n",
    "for arr in raw_outputs:\n",
    "    if arr[0] > arr[1]:\n",
    "        outputs = np.append(outputs, 0)\n",
    "    else:\n",
    "        outputs = np.append(outputs, 1)\n",
    "outputs = outputs.astype(int)\n",
    "validate_array = (outputs == test_data['targets'])\n",
    "print(f\"Accuracy: {(validate_array.sum()/len(validate_array)*100).round(2)}%\")"
   ]
  },
  {
   "cell_type": "code",
   "execution_count": null,
   "metadata": {},
   "outputs": [],
   "source": []
  }
 ],
 "metadata": {
  "kernelspec": {
   "display_name": "Python 3",
   "language": "python",
   "name": "python3"
  },
  "language_info": {
   "codemirror_mode": {
    "name": "ipython",
    "version": 3
   },
   "file_extension": ".py",
   "mimetype": "text/x-python",
   "name": "python",
   "nbconvert_exporter": "python",
   "pygments_lexer": "ipython3",
   "version": "3.7.4"
  }
 },
 "nbformat": 4,
 "nbformat_minor": 4
}
